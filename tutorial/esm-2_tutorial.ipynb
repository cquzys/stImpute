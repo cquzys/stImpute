{
 "cells": [
  {
   "cell_type": "markdown",
   "metadata": {},
   "source": [
    "This part of the tutorial will guide you how to obtain the ESM-2 embedding of the gene.\n",
    "\n",
    "#### Query and Download\n",
    "\n",
    "We need to download the protein expression of the gene under [UniProt](https://www.uniprot.org/) (here we use `P61922`, `Q3UJF9` and `Q91ZH7` as an example). We can do this efficiently with the following script:"
   ]
  },
  {
   "cell_type": "code",
   "execution_count": 1,
   "metadata": {},
   "outputs": [],
   "source": [
    "from urllib.request import urlopen"
   ]
  },
  {
   "cell_type": "code",
   "execution_count": 2,
   "metadata": {},
   "outputs": [],
   "source": [
    "gene_id_list = ['Q3UJF9', 'P61922', 'Q91ZH7']"
   ]
  },
  {
   "cell_type": "code",
   "execution_count": 3,
   "metadata": {},
   "outputs": [],
   "source": [
    "f = open('gene_protein.txt', 'w')\n",
    "\n",
    "for gene_id in gene_id_list:\n",
    "    URL = urlopen('https://rest.uniprot.org/uniprotkb/' + gene_id + '.fasta')\n",
    "    albumen = str(URL.read()).split('\\\\n')[:-1]\n",
    "    f.write('>' + gene_id + '\\n')\n",
    "    f.write(''.join(albumen[1:]) + '\\n')\n",
    "f.close()"
   ]
  },
  {
   "cell_type": "markdown",
   "metadata": {},
   "source": [
    "#### ESM-2 Embedding\n",
    "\n",
    "Installed the ESM-2 model (you can refer to [ESM-2](https://github.com/facebookresearch/esm)), then **enter the following command:**\n",
    "\n",
    "CUDA_VISIBLE_DEVICES=0 python scripts/extract.py esm2_t36_3B_UR50D gene_protein.txt examples/data/some_proteins_emb_esm2 --repr_layers 36 --include mean per_tok\n",
    "\n",
    "After running successfully, the gene embedding file (in this case, `P61922.pt`, `Q3UJF9.pt` and `Q91ZH7.pt`) is generated in the `esm-main/examples/data/some_proteins_emb_esm2/` directory. We put them together:"
   ]
  },
  {
   "cell_type": "code",
   "execution_count": 4,
   "metadata": {},
   "outputs": [
    {
     "data": {
      "text/html": [
       "<div>\n",
       "<style scoped>\n",
       "    .dataframe tbody tr th:only-of-type {\n",
       "        vertical-align: middle;\n",
       "    }\n",
       "\n",
       "    .dataframe tbody tr th {\n",
       "        vertical-align: top;\n",
       "    }\n",
       "\n",
       "    .dataframe thead th {\n",
       "        text-align: right;\n",
       "    }\n",
       "</style>\n",
       "<table border=\"1\" class=\"dataframe\">\n",
       "  <thead>\n",
       "    <tr style=\"text-align: right;\">\n",
       "      <th></th>\n",
       "      <th>Q3UJF9</th>\n",
       "      <th>P61922</th>\n",
       "      <th>Q91ZH7</th>\n",
       "    </tr>\n",
       "  </thead>\n",
       "  <tbody>\n",
       "    <tr>\n",
       "      <th>0</th>\n",
       "      <td>0.134797</td>\n",
       "      <td>0.025256</td>\n",
       "      <td>-0.149445</td>\n",
       "    </tr>\n",
       "    <tr>\n",
       "      <th>1</th>\n",
       "      <td>-0.053382</td>\n",
       "      <td>-0.031979</td>\n",
       "      <td>-0.187018</td>\n",
       "    </tr>\n",
       "    <tr>\n",
       "      <th>2</th>\n",
       "      <td>-0.012659</td>\n",
       "      <td>0.004654</td>\n",
       "      <td>-0.018185</td>\n",
       "    </tr>\n",
       "    <tr>\n",
       "      <th>3</th>\n",
       "      <td>0.043372</td>\n",
       "      <td>-0.081000</td>\n",
       "      <td>-0.261306</td>\n",
       "    </tr>\n",
       "    <tr>\n",
       "      <th>4</th>\n",
       "      <td>-0.072901</td>\n",
       "      <td>0.091502</td>\n",
       "      <td>-0.136699</td>\n",
       "    </tr>\n",
       "    <tr>\n",
       "      <th>...</th>\n",
       "      <td>...</td>\n",
       "      <td>...</td>\n",
       "      <td>...</td>\n",
       "    </tr>\n",
       "    <tr>\n",
       "      <th>2555</th>\n",
       "      <td>-0.071132</td>\n",
       "      <td>-0.050865</td>\n",
       "      <td>0.162222</td>\n",
       "    </tr>\n",
       "    <tr>\n",
       "      <th>2556</th>\n",
       "      <td>-0.076116</td>\n",
       "      <td>-0.019745</td>\n",
       "      <td>-0.090902</td>\n",
       "    </tr>\n",
       "    <tr>\n",
       "      <th>2557</th>\n",
       "      <td>0.065875</td>\n",
       "      <td>0.103102</td>\n",
       "      <td>0.006431</td>\n",
       "    </tr>\n",
       "    <tr>\n",
       "      <th>2558</th>\n",
       "      <td>-0.208240</td>\n",
       "      <td>-0.061796</td>\n",
       "      <td>-0.100855</td>\n",
       "    </tr>\n",
       "    <tr>\n",
       "      <th>2559</th>\n",
       "      <td>0.008145</td>\n",
       "      <td>-0.211030</td>\n",
       "      <td>-0.153006</td>\n",
       "    </tr>\n",
       "  </tbody>\n",
       "</table>\n",
       "<p>2560 rows × 3 columns</p>\n",
       "</div>"
      ],
      "text/plain": [
       "        Q3UJF9    P61922    Q91ZH7\n",
       "0     0.134797  0.025256 -0.149445\n",
       "1    -0.053382 -0.031979 -0.187018\n",
       "2    -0.012659  0.004654 -0.018185\n",
       "3     0.043372 -0.081000 -0.261306\n",
       "4    -0.072901  0.091502 -0.136699\n",
       "...        ...       ...       ...\n",
       "2555 -0.071132 -0.050865  0.162222\n",
       "2556 -0.076116 -0.019745 -0.090902\n",
       "2557  0.065875  0.103102  0.006431\n",
       "2558 -0.208240 -0.061796 -0.100855\n",
       "2559  0.008145 -0.211030 -0.153006\n",
       "\n",
       "[2560 rows x 3 columns]"
      ]
     },
     "execution_count": 4,
     "metadata": {},
     "output_type": "execute_result"
    }
   ],
   "source": [
    "import os\n",
    "import torch\n",
    "import pickle\n",
    "import pandas as pd\n",
    "\n",
    "df = pd.DataFrame()\n",
    "\n",
    "for path, dir_lst, file_lst in os.walk(r'examples/data/some_proteins_emb_esm2'):\n",
    "    for file_name in file_lst:\n",
    "        data = torch.load(open(os.path.join(path, file_name), 'rb'))\n",
    "        df.insert(df.shape[1], data['label'], data['representations'][36][-1].numpy())\n",
    "\n",
    "df"
   ]
  },
  {
   "cell_type": "code",
   "execution_count": 5,
   "metadata": {},
   "outputs": [],
   "source": [
    "pickle.dump(df, open('emb.pkl', 'wb'))"
   ]
  }
 ],
 "metadata": {
  "kernelspec": {
   "display_name": "graphbepi",
   "language": "python",
   "name": "python3"
  },
  "language_info": {
   "codemirror_mode": {
    "name": "ipython",
    "version": 3
   },
   "file_extension": ".py",
   "mimetype": "text/x-python",
   "name": "python",
   "nbconvert_exporter": "python",
   "pygments_lexer": "ipython3",
   "version": "3.9.1"
  }
 },
 "nbformat": 4,
 "nbformat_minor": 2
}
