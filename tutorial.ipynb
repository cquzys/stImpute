{
 "cells": [
  {
   "cell_type": "markdown",
   "metadata": {},
   "source": [
    "This part of the tutorial will guide you how to obtain the ESM-2 embedding of the gene and how to use stImpute for spatial transcriptome data prediction.\n",
    "\n",
    "### Query and Download\n",
    "\n",
    "We need to download the protein expression of the gene under [UniProt](https://www.uniprot.org/) (here we use `P61922`, `Q3UJF9` and `Q91ZH7` as an example). We can do this efficiently with the following script:"
   ]
  },
  {
   "cell_type": "code",
   "execution_count": 1,
   "metadata": {},
   "outputs": [],
   "source": [
    "from urllib.request import urlopen"
   ]
  },
  {
   "cell_type": "code",
   "execution_count": 2,
   "metadata": {},
   "outputs": [],
   "source": [
    "gene_id_list = ['Q3UJF9', 'P61922', 'Q91ZH7']"
   ]
  },
  {
   "cell_type": "code",
   "execution_count": 3,
   "metadata": {},
   "outputs": [],
   "source": [
    "f = open('gene_protein.txt', 'w')\n",
    "\n",
    "for gene_id in gene_id_list:\n",
    "    URL = urlopen('https://rest.uniprot.org/uniprotkb/' + gene_id + '.fasta')\n",
    "    albumen = str(URL.read()).split('\\\\n')[:-1]\n",
    "    f.write('>' + gene_id + '\\n')\n",
    "    f.write(''.join(albumen[1:]) + '\\n')\n",
    "f.close()"
   ]
  },
  {
   "cell_type": "markdown",
   "metadata": {},
   "source": [
    "### ESM-2 Embedding\n",
    "\n",
    "Installed the ESM-2 model (you can refer to [ESM-2](https://github.com/facebookresearch/esm)), then **enter the following command:**\n",
    "\n",
    "CUDA_VISIBLE_DEVICES=0 python scripts/extract.py esm2_t36_3B_UR50D gene_protein.txt examples/data/some_proteins_emb_esm2 --repr_layers 36 --include mean per_tok\n",
    "\n",
    "After running successfully, the gene embedding file (in this case, `P61922.pt`, `Q3UJF9.pt` and `Q91ZH7.pt`) is generated in the `esm-main/examples/data/some_proteins_emb_esm2/` directory. We put them together:"
   ]
  },
  {
   "cell_type": "code",
   "execution_count": 4,
   "metadata": {},
   "outputs": [
    {
     "data": {
      "text/html": [
       "<div>\n",
       "<style scoped>\n",
       "    .dataframe tbody tr th:only-of-type {\n",
       "        vertical-align: middle;\n",
       "    }\n",
       "\n",
       "    .dataframe tbody tr th {\n",
       "        vertical-align: top;\n",
       "    }\n",
       "\n",
       "    .dataframe thead th {\n",
       "        text-align: right;\n",
       "    }\n",
       "</style>\n",
       "<table border=\"1\" class=\"dataframe\">\n",
       "  <thead>\n",
       "    <tr style=\"text-align: right;\">\n",
       "      <th></th>\n",
       "      <th>Q3UJF9</th>\n",
       "      <th>P61922</th>\n",
       "      <th>Q91ZH7</th>\n",
       "    </tr>\n",
       "  </thead>\n",
       "  <tbody>\n",
       "    <tr>\n",
       "      <th>0</th>\n",
       "      <td>0.134797</td>\n",
       "      <td>0.025256</td>\n",
       "      <td>-0.149445</td>\n",
       "    </tr>\n",
       "    <tr>\n",
       "      <th>1</th>\n",
       "      <td>-0.053382</td>\n",
       "      <td>-0.031979</td>\n",
       "      <td>-0.187018</td>\n",
       "    </tr>\n",
       "    <tr>\n",
       "      <th>2</th>\n",
       "      <td>-0.012659</td>\n",
       "      <td>0.004654</td>\n",
       "      <td>-0.018185</td>\n",
       "    </tr>\n",
       "    <tr>\n",
       "      <th>3</th>\n",
       "      <td>0.043372</td>\n",
       "      <td>-0.081000</td>\n",
       "      <td>-0.261306</td>\n",
       "    </tr>\n",
       "    <tr>\n",
       "      <th>4</th>\n",
       "      <td>-0.072901</td>\n",
       "      <td>0.091502</td>\n",
       "      <td>-0.136699</td>\n",
       "    </tr>\n",
       "    <tr>\n",
       "      <th>...</th>\n",
       "      <td>...</td>\n",
       "      <td>...</td>\n",
       "      <td>...</td>\n",
       "    </tr>\n",
       "    <tr>\n",
       "      <th>2555</th>\n",
       "      <td>-0.071132</td>\n",
       "      <td>-0.050865</td>\n",
       "      <td>0.162222</td>\n",
       "    </tr>\n",
       "    <tr>\n",
       "      <th>2556</th>\n",
       "      <td>-0.076116</td>\n",
       "      <td>-0.019745</td>\n",
       "      <td>-0.090902</td>\n",
       "    </tr>\n",
       "    <tr>\n",
       "      <th>2557</th>\n",
       "      <td>0.065875</td>\n",
       "      <td>0.103102</td>\n",
       "      <td>0.006431</td>\n",
       "    </tr>\n",
       "    <tr>\n",
       "      <th>2558</th>\n",
       "      <td>-0.208240</td>\n",
       "      <td>-0.061796</td>\n",
       "      <td>-0.100855</td>\n",
       "    </tr>\n",
       "    <tr>\n",
       "      <th>2559</th>\n",
       "      <td>0.008145</td>\n",
       "      <td>-0.211030</td>\n",
       "      <td>-0.153006</td>\n",
       "    </tr>\n",
       "  </tbody>\n",
       "</table>\n",
       "<p>2560 rows × 3 columns</p>\n",
       "</div>"
      ],
      "text/plain": [
       "        Q3UJF9    P61922    Q91ZH7\n",
       "0     0.134797  0.025256 -0.149445\n",
       "1    -0.053382 -0.031979 -0.187018\n",
       "2    -0.012659  0.004654 -0.018185\n",
       "3     0.043372 -0.081000 -0.261306\n",
       "4    -0.072901  0.091502 -0.136699\n",
       "...        ...       ...       ...\n",
       "2555 -0.071132 -0.050865  0.162222\n",
       "2556 -0.076116 -0.019745 -0.090902\n",
       "2557  0.065875  0.103102  0.006431\n",
       "2558 -0.208240 -0.061796 -0.100855\n",
       "2559  0.008145 -0.211030 -0.153006\n",
       "\n",
       "[2560 rows x 3 columns]"
      ]
     },
     "execution_count": 4,
     "metadata": {},
     "output_type": "execute_result"
    }
   ],
   "source": [
    "import os\n",
    "import torch\n",
    "import pickle\n",
    "import pandas as pd\n",
    "\n",
    "df = pd.DataFrame()\n",
    "\n",
    "for path, dir_lst, file_lst in os.walk(r'examples/data/some_proteins_emb_esm2'):\n",
    "    for file_name in file_lst:\n",
    "        data = torch.load(open(os.path.join(path, file_name), 'rb'))\n",
    "        df.insert(df.shape[1], data['label'], data['representations'][36][-1].numpy())\n",
    "\n",
    "df"
   ]
  },
  {
   "cell_type": "code",
   "execution_count": 5,
   "metadata": {},
   "outputs": [],
   "source": [
    "pickle.dump(df, open('emb.pkl', 'wb'))"
   ]
  },
  {
   "cell_type": "markdown",
   "metadata": {},
   "source": [
    "### Spatial transcriptomic data prediction\n",
    "\n",
    "Next, we take osmFISH_Zeisel as an example to show how to use stImpute for spatial transcriptome data prediction."
   ]
  },
  {
   "cell_type": "code",
   "execution_count": 1,
   "metadata": {},
   "outputs": [],
   "source": [
    "import torch\n",
    "import warnings\n",
    "import numpy as np\n",
    "import scanpy as sc\n",
    "import pandas as pd\n",
    "import anndata as ad\n",
    "from sklearn import metrics\n",
    "from sklearn.model_selection import KFold\n",
    "from scipy.spatial.distance import cosine\n",
    "from model import *\n",
    "warnings.filterwarnings('ignore')\n",
    "\n",
    "seed=42\n",
    "set_seed(seed)"
   ]
  },
  {
   "cell_type": "markdown",
   "metadata": {},
   "source": [
    "Load data"
   ]
  },
  {
   "cell_type": "code",
   "execution_count": 2,
   "metadata": {},
   "outputs": [],
   "source": [
    "st_adata = sc.read_h5ad('/public/home/syj/stImpute/dataset/st-seq/osmFISH.h5ad')\n",
    "sc_adata = sc.read_h5ad('/public/home/syj/stImpute/dataset/scRNA-seq/Zeisel.h5ad')\n",
    "emb_file = 'embed/osmFISH_emb.pkl' # emb_file = None"
   ]
  },
  {
   "cell_type": "code",
   "execution_count": 3,
   "metadata": {},
   "outputs": [],
   "source": [
    "raw_spatial_df = pd.DataFrame(st_adata.X, columns=st_adata.var_names)\n",
    "raw_scrna_df = pd.DataFrame(sc_adata.X, columns=sc_adata.var_names)\n",
    "raw_shared_gene = np.intersect1d(raw_spatial_df.columns, raw_scrna_df.columns)\n",
    "\n",
    "all_pred_res = pd.DataFrame(np.zeros((raw_spatial_df.shape[0], raw_shared_gene.shape[0])), columns=raw_shared_gene)\n",
    "all_reliable_res = pd.DataFrame(np.zeros((1, raw_shared_gene.shape[0])), columns=raw_shared_gene)"
   ]
  },
  {
   "cell_type": "markdown",
   "metadata": {},
   "source": [
    "5-fold cross validation"
   ]
  },
  {
   "cell_type": "code",
   "execution_count": 4,
   "metadata": {},
   "outputs": [
    {
     "name": "stdout",
     "output_type": "stream",
     "text": [
      "\n",
      "===== Fold 1 =====\n",
      "Number of train genes: 26, Number of test genes: 7\n",
      "ST data:            3405 cells * 26 genes\n",
      "scRNA-seq data:     1691 cells * 15075 genes\n",
      "7 genes to be predicted\n",
      "\n"
     ]
    },
    {
     "name": "stderr",
     "output_type": "stream",
     "text": [
      "Embedding        : 100%|██████████| 30/30 [00:10<00:00,  2.94it/s]\n",
      "EM_training      : 100%|██████████| 2/2 [00:05<00:00,  2.59s/it]\n",
      "Reliable training: 100%|██████████| 100/100 [00:00<00:00, 425.00it/s]\n"
     ]
    },
    {
     "name": "stdout",
     "output_type": "stream",
     "text": [
      "\n",
      "===== Fold 2 =====\n",
      "Number of train genes: 26, Number of test genes: 7\n",
      "ST data:            3405 cells * 26 genes\n",
      "scRNA-seq data:     1691 cells * 15075 genes\n",
      "7 genes to be predicted\n",
      "\n"
     ]
    },
    {
     "name": "stderr",
     "output_type": "stream",
     "text": [
      "Embedding        : 100%|██████████| 30/30 [00:09<00:00,  3.21it/s]\n",
      "EM_training      : 100%|██████████| 2/2 [00:05<00:00,  2.57s/it]\n",
      "Reliable training: 100%|██████████| 100/100 [00:00<00:00, 403.92it/s]\n"
     ]
    },
    {
     "name": "stdout",
     "output_type": "stream",
     "text": [
      "\n",
      "===== Fold 3 =====\n",
      "Number of train genes: 26, Number of test genes: 7\n",
      "ST data:            3405 cells * 26 genes\n",
      "scRNA-seq data:     1691 cells * 15075 genes\n",
      "7 genes to be predicted\n",
      "\n"
     ]
    },
    {
     "name": "stderr",
     "output_type": "stream",
     "text": [
      "Embedding        : 100%|██████████| 30/30 [00:09<00:00,  3.29it/s]\n",
      "EM_training      : 100%|██████████| 2/2 [00:04<00:00,  2.50s/it]\n",
      "Reliable training: 100%|██████████| 100/100 [00:00<00:00, 487.20it/s]\n"
     ]
    },
    {
     "name": "stdout",
     "output_type": "stream",
     "text": [
      "\n",
      "===== Fold 4 =====\n",
      "Number of train genes: 27, Number of test genes: 6\n",
      "ST data:            3405 cells * 27 genes\n",
      "scRNA-seq data:     1691 cells * 15075 genes\n",
      "6 genes to be predicted\n",
      "\n"
     ]
    },
    {
     "name": "stderr",
     "output_type": "stream",
     "text": [
      "Embedding        : 100%|██████████| 30/30 [00:09<00:00,  3.09it/s]\n",
      "EM_training      : 100%|██████████| 2/2 [00:05<00:00,  2.62s/it]\n",
      "Reliable training: 100%|██████████| 100/100 [00:00<00:00, 386.50it/s]\n"
     ]
    },
    {
     "name": "stdout",
     "output_type": "stream",
     "text": [
      "\n",
      "===== Fold 5 =====\n",
      "Number of train genes: 27, Number of test genes: 6\n",
      "ST data:            3405 cells * 27 genes\n",
      "scRNA-seq data:     1691 cells * 15075 genes\n",
      "6 genes to be predicted\n",
      "\n"
     ]
    },
    {
     "name": "stderr",
     "output_type": "stream",
     "text": [
      "Embedding        : 100%|██████████| 30/30 [00:09<00:00,  3.09it/s]\n",
      "EM_training      : 100%|██████████| 2/2 [00:05<00:00,  2.56s/it]\n",
      "Reliable training: 100%|██████████| 100/100 [00:00<00:00, 447.65it/s]\n"
     ]
    }
   ],
   "source": [
    "idx = 1\n",
    "kf = KFold(n_splits=5, shuffle=True, random_state=0)\n",
    "kf.get_n_splits(raw_shared_gene)\n",
    "for train_ind, test_ind in kf.split(raw_shared_gene):    \n",
    "    print(\"\\n===== Fold %d =====\\nNumber of train genes: %d, Number of test genes: %d\" % (idx, len(train_ind), len(test_ind)))\n",
    "    train_gene = raw_shared_gene[train_ind]\n",
    "    test_gene  = raw_shared_gene[test_ind]\n",
    "    spatial_df = raw_spatial_df[train_gene]\n",
    "    scrna_df   = raw_scrna_df\n",
    "    all_pred_res[test_gene], all_reliable_res[test_gene] = stImpute(spatial_df, scrna_df, train_gene, test_gene, seed=seed, emb_file=emb_file)\n",
    "    idx += 1"
   ]
  },
  {
   "cell_type": "markdown",
   "metadata": {},
   "source": [
    "### Calculating metrics\n",
    "\n",
    "Cosine similarity and MSE:"
   ]
  },
  {
   "cell_type": "code",
   "execution_count": 5,
   "metadata": {},
   "outputs": [
    {
     "name": "stdout",
     "output_type": "stream",
     "text": [
      "result: \n",
      "gene-wise cosine: 0.79\n",
      "gene-wise mse: 0.82\n",
      "cell-wise cosine: 0.76\n",
      "cell-wise mse: 1.03\n"
     ]
    }
   ],
   "source": [
    "print('result: ')\n",
    "print('gene-wise cosine: %.2f' % (np.median(calc_all(raw_spatial_df[raw_shared_gene], all_pred_res, cal='cosine'))))\n",
    "print('gene-wise mse: %.2f' % (np.median(calc_all(raw_spatial_df[raw_shared_gene], all_pred_res, cal='mse'))))\n",
    "print('cell-wise cosine: %.2f' % (np.median(calc_all(raw_spatial_df[raw_shared_gene].T, all_pred_res.T, cal='cosine'))))\n",
    "print('cell-wise mse: %.2f' % (np.median(calc_all(raw_spatial_df[raw_shared_gene].T, all_pred_res.T, cal='mse'))))"
   ]
  },
  {
   "cell_type": "markdown",
   "metadata": {},
   "source": [
    "Top 50% gene-wise Cosine similarity:"
   ]
  },
  {
   "cell_type": "code",
   "execution_count": 6,
   "metadata": {},
   "outputs": [
    {
     "name": "stdout",
     "output_type": "stream",
     "text": [
      "top50% gene-wise cosine: 0.82\n"
     ]
    }
   ],
   "source": [
    "top50_ind = np.argsort(-all_reliable_res.values.squeeze())[:raw_shared_gene.shape[0]//2]\n",
    "top50_gene_cos = [1-cosine(all_pred_res[gene], raw_spatial_df[gene]) for gene in raw_shared_gene[top50_ind]]\n",
    "print('top50%% gene-wise cosine: %.2f' % (np.median(top50_gene_cos)))"
   ]
  },
  {
   "cell_type": "markdown",
   "metadata": {},
   "source": [
    "Cluster result:"
   ]
  },
  {
   "cell_type": "code",
   "execution_count": 7,
   "metadata": {},
   "outputs": [
    {
     "name": "stdout",
     "output_type": "stream",
     "text": [
      "ARI: 0.29\n",
      "FMI: 0.35\n",
      "Comp: 0.43\n"
     ]
    }
   ],
   "source": [
    "imp_adata = ad.AnnData(all_pred_res)\n",
    "try:\n",
    "    imp_adata.obs['Cluster'] = st_adata.obs['Cluster'].values.astype('category')\n",
    "    sc.pp.neighbors(imp_adata, n_neighbors=10, n_pcs=40)\n",
    "    sc.tl.umap(imp_adata)\n",
    "    sc.tl.leiden(imp_adata)\n",
    "\n",
    "    labels_true = []\n",
    "    dic = dict()\n",
    "    for str in st_adata.obs['Cluster']:\n",
    "        try:\n",
    "            labels_true.append(dic[str])\n",
    "        except:\n",
    "            dic[str] = len(dic)\n",
    "            labels_true.append(dic[str])\n",
    "    labels_true = np.array(labels_true)\n",
    "    labels_pred = imp_adata.obs['leiden'].astype('int').to_numpy()\n",
    "\n",
    "    print('ARI: %.2f' % (metrics.adjusted_rand_score(labels_true, labels_pred)))\n",
    "    print('FMI: %.2f' % (metrics.fowlkes_mallows_score(labels_true, labels_pred)))\n",
    "    print('Comp: %.2f' % (metrics.completeness_score(labels_true, labels_pred)))\n",
    "except:\n",
    "    exit()"
   ]
  }
 ],
 "metadata": {
  "kernelspec": {
   "display_name": "graphbepi",
   "language": "python",
   "name": "python3"
  },
  "language_info": {
   "codemirror_mode": {
    "name": "ipython",
    "version": 3
   },
   "file_extension": ".py",
   "mimetype": "text/x-python",
   "name": "python",
   "nbconvert_exporter": "python",
   "pygments_lexer": "ipython3",
   "version": "3.9.12"
  }
 },
 "nbformat": 4,
 "nbformat_minor": 2
}
